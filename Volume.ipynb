{
 "cells": [
  {
   "cell_type": "code",
   "execution_count": 2,
   "id": "eeb316d7-07f1-4d26-bbda-6441f8be4f5b",
   "metadata": {},
   "outputs": [
    {
     "name": "stdin",
     "output_type": "stream",
     "text": [
      "Enter the shape (cube, sphere, cylinder, cone, or cuboid):  cube\n",
      "Enter the density of the material (in kg/m^3):  5\n",
      "Enter the side length of the cube (in meters):  4\n"
     ]
    },
    {
     "name": "stdout",
     "output_type": "stream",
     "text": [
      "Volume of the cube: 64.0 cubic meters\n",
      "Mass of the cube: 320.0 kilograms\n"
     ]
    }
   ],
   "source": [
    "import math\n",
    "\n",
    "def cube_properties(side_length, density):\n",
    "    volume = side_length**3\n",
    "    mass = volume * density\n",
    "    return volume, mass\n",
    "\n",
    "# Function to calculate the volume and mass properties of a sphere\n",
    "def sphere_properties(radius, density):\n",
    "    volume = (4/3) * math.pi * radius**3\n",
    "    mass = volume * density\n",
    "    return volume, mass\n",
    "\n",
    "# Function to calculate the volume and mass properties of a cylinder\n",
    "def cylinder_properties(radius, height, density):\n",
    "    volume = math.pi * radius**2 * height\n",
    "    mass = volume * density\n",
    "    return volume, mass\n",
    "\n",
    "# Function to calculate the volume and mass properties of a cone\n",
    "def cone_properties(radius, height, density):\n",
    "    volume = (1/3) * math.pi * radius**2 * height\n",
    "    mass = volume * density\n",
    "    return volume, mass\n",
    "\n",
    "# Function to calculate the volume and mass properties of a rectangular prism (cuboid)\n",
    "def cuboid_properties(length, width, height, density):\n",
    "    volume = length * width * height\n",
    "    mass = volume * density\n",
    "    return volume, mass\n",
    "\n",
    "# Input: Shape of the object, dimensions, and density\n",
    "shape = input(\"Enter the shape (cube, sphere, cylinder, cone, or cuboid): \")\n",
    "density = float(input(\"Enter the density of the material (in kg/m^3): \"))\n",
    "\n",
    "if shape == \"cube\":\n",
    "    side_length = float(input(\"Enter the side length of the cube (in meters): \"))\n",
    "    volume, mass = cube_properties(side_length, density)\n",
    "elif shape == \"sphere\":\n",
    "    radius = float(input(\"Enter the radius of the sphere (in meters): \"))\n",
    "    volume, mass = sphere_properties(radius, density)\n",
    "elif shape == \"cylinder\":\n",
    "    radius = float(input(\"Enter the radius of the cylinder (in meters): \"))\n",
    "    height = float(input(\"Enter the height of the cylinder (in meters): \"))\n",
    "    volume, mass = cylinder_properties(radius, height, density)\n",
    "elif shape == \"cone\":\n",
    "    radius = float(input(\"Enter the radius of the cone (in meters): \"))\n",
    "    height = float(input(\"Enter the height of the cone (in meters): \"))\n",
    "    volume, mass = cone_properties(radius, height, density)\n",
    "elif shape == \"cuboid\":\n",
    "    length = float(input(\"Enter the length of the cuboid (in meters): \"))\n",
    "    width = float(input(\"Enter the width of the cuboid (in meters): \"))\n",
    "    height = float(input(\"Enter the height of the cuboid (in meters): \"))\n",
    "    volume, mass = cuboid_properties(length, width, height, density)\n",
    "else:\n",
    "    print(\"Invalid shape entered. Please choose from 'cube', 'sphere', 'cylinder', 'cone', or 'cuboid'\")\n",
    "    volume, mass = 0, 0\n",
    "\n",
    "# Display the results\n",
    "print(f\"Volume of the {shape}: {volume} cubic meters\")\n",
    "print(f\"Mass of the {shape}: {mass} kilograms\")\n"
   ]
  },
  {
   "cell_type": "code",
   "execution_count": null,
   "id": "4873c7b9-ed19-4ede-8a6f-9efc3bb6d5a1",
   "metadata": {},
   "outputs": [],
   "source": []
  }
 ],
 "metadata": {
  "kernelspec": {
   "display_name": "Python 3 (ipykernel)",
   "language": "python",
   "name": "python3"
  },
  "language_info": {
   "codemirror_mode": {
    "name": "ipython",
    "version": 3
   },
   "file_extension": ".py",
   "mimetype": "text/x-python",
   "name": "python",
   "nbconvert_exporter": "python",
   "pygments_lexer": "ipython3",
   "version": "3.11.4"
  }
 },
 "nbformat": 4,
 "nbformat_minor": 5
}
